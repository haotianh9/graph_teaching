{
 "cells": [
  {
   "cell_type": "markdown",
   "metadata": {},
   "source": []
  },
  {
   "cell_type": "code",
   "execution_count": null,
   "metadata": {},
   "outputs": [],
   "source": [
    "!pip install torch xlrd networkx pandas torch_geometric "
   ]
  },
  {
   "cell_type": "markdown",
   "metadata": {},
   "source": [
    "# Load datasets\n"
   ]
  },
  {
   "cell_type": "markdown",
   "metadata": {},
   "source": [
    "## C. elegans Connectome Dataset"
   ]
  },
  {
   "cell_type": "code",
   "execution_count": null,
   "metadata": {},
   "outputs": [
    {
     "name": "stdout",
     "output_type": "stream",
     "text": [
      "Index(['Neuron 1', 'Neuron 2', 'Type', 'Nbr'], dtype='object')\n",
      "Number of nodes: 283\n",
      "Number of edges: 4693\n"
     ]
    }
   ],
   "source": [
    "import pandas as pd\n",
    "import networkx as nx\n",
    "\n",
    "\n",
    "# downloaded from https://www.wormwiring.org/\n",
    "df = pd.read_excel('./Data/celegans_connectome.xls')\n",
    "\n",
    "# Inspect the DataFrame to identify the correct columns\n",
    "print(df.columns)\n",
    "\n",
    "G_celegans = nx.from_pandas_edgelist(df, source='Neuron 1', target='Neuron 2', create_using=nx.DiGraph())\n",
    "\n",
    "print(f\"Number of nodes: {G_celegans.number_of_nodes()}\")\n",
    "print(f\"Number of edges: {G_celegans.number_of_edges()}\")\n",
    "\n"
   ]
  },
  {
   "cell_type": "markdown",
   "metadata": {},
   "source": [
    "## Scientific Collaboration Network (COLLAB Dataset)"
   ]
  },
  {
   "cell_type": "code",
   "execution_count": null,
   "metadata": {},
   "outputs": [
    {
     "name": "stdout",
     "output_type": "stream",
     "text": [
      "Number of nodes: 45\n",
      "Number of edges: 990\n"
     ]
    }
   ],
   "source": [
    "import networkx as nx\n",
    "from torch_geometric.datasets import TUDataset\n",
    "from torch_geometric.utils import to_networkx\n",
    "# Download the COLLAB dataset\n",
    "dataset = TUDataset(root='./Data/', name='COLLAB')\n",
    "\n",
    "# Let's convert the first graph in the dataset\n",
    "pyg_graph = dataset[0]\n",
    "G_collab = to_networkx(pyg_graph, to_undirected=True)\n",
    "\n",
    "\n",
    "print(f\"Number of nodes: {G_collab.number_of_nodes()}\")\n",
    "print(f\"Number of edges: {G_collab.number_of_edges()}\")\n"
   ]
  },
  {
   "cell_type": "markdown",
   "metadata": {},
   "source": [
    "## Social network (Facebook)"
   ]
  },
  {
   "cell_type": "code",
   "execution_count": 18,
   "metadata": {},
   "outputs": [
    {
     "name": "stdout",
     "output_type": "stream",
     "text": [
      "Number of nodes: 4039\n",
      "Number of edges: 88234\n"
     ]
    }
   ],
   "source": [
    "# Download from Stanford Large Network Dataset Collection https://snap.stanford.edu/data/ego-Facebook.html\n",
    "\n",
    "import networkx as nx\n",
    "\n",
    "# Load an edge list\n",
    "G_social =  nx.read_edgelist(\"./Data/facebook_combined.txt\", nodetype=int)\n",
    "\n",
    "\n",
    "print(f\"Number of nodes: {G_social.number_of_nodes()}\")\n",
    "print(f\"Number of edges: {G_social.number_of_edges()}\")"
   ]
  },
  {
   "cell_type": "code",
   "execution_count": null,
   "metadata": {},
   "outputs": [],
   "source": []
  },
  {
   "cell_type": "code",
   "execution_count": null,
   "metadata": {},
   "outputs": [],
   "source": []
  }
 ],
 "metadata": {
  "kernelspec": {
   "display_name": "Python 3",
   "language": "python",
   "name": "python3"
  },
  "language_info": {
   "codemirror_mode": {
    "name": "ipython",
    "version": 3
   },
   "file_extension": ".py",
   "mimetype": "text/x-python",
   "name": "python",
   "nbconvert_exporter": "python",
   "pygments_lexer": "ipython3",
   "version": "3.10.12"
  }
 },
 "nbformat": 4,
 "nbformat_minor": 2
}
